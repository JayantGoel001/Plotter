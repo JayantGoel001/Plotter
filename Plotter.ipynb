{
 "cells": [
  {
   "cell_type": "code",
   "execution_count": 1,
   "metadata": {},
   "outputs": [],
   "source": [
    "import numpy as np\n",
    "import pandas as pd\n",
    "import plotly as pl\n",
    "import plotly.offline as po\n",
    "import cufflinks as cf"
   ]
  },
  {
   "cell_type": "code",
   "execution_count": 2,
   "metadata": {},
   "outputs": [
    {
     "data": {
      "text/html": [
       "        <script type=\"text/javascript\">\n",
       "        window.PlotlyConfig = {MathJaxConfig: 'local'};\n",
       "        if (window.MathJax) {MathJax.Hub.Config({SVG: {font: \"STIX-Web\"}});}\n",
       "        if (typeof require !== 'undefined') {\n",
       "        require.undef(\"plotly\");\n",
       "        requirejs.config({\n",
       "            paths: {\n",
       "                'plotly': ['https://cdn.plot.ly/plotly-latest.min']\n",
       "            }\n",
       "        });\n",
       "        require(['plotly'], function(Plotly) {\n",
       "            window._Plotly = Plotly;\n",
       "        });\n",
       "        }\n",
       "        </script>\n",
       "        "
      ]
     },
     "metadata": {},
     "output_type": "display_data"
    }
   ],
   "source": [
    "po.init_notebook_mode(connected=True)"
   ]
  },
  {
   "cell_type": "code",
   "execution_count": 3,
   "metadata": {},
   "outputs": [
    {
     "data": {
      "text/html": [
       "        <script type=\"text/javascript\">\n",
       "        window.PlotlyConfig = {MathJaxConfig: 'local'};\n",
       "        if (window.MathJax) {MathJax.Hub.Config({SVG: {font: \"STIX-Web\"}});}\n",
       "        if (typeof require !== 'undefined') {\n",
       "        require.undef(\"plotly\");\n",
       "        requirejs.config({\n",
       "            paths: {\n",
       "                'plotly': ['https://cdn.plot.ly/plotly-latest.min']\n",
       "            }\n",
       "        });\n",
       "        require(['plotly'], function(Plotly) {\n",
       "            window._Plotly = Plotly;\n",
       "        });\n",
       "        }\n",
       "        </script>\n",
       "        "
      ]
     },
     "metadata": {},
     "output_type": "display_data"
    }
   ],
   "source": [
    "cf.go_offline()"
   ]
  },
  {
   "cell_type": "code",
   "execution_count": 4,
   "metadata": {},
   "outputs": [],
   "source": [
    "def createData(choice):\n",
    "    if choice==1:\n",
    "        return pd.DataFrame(np.random.rand(100,5),columns=['A','B','C','D','E'])\n",
    "    elif choice==2:\n",
    "        print(\"Enter the value of n(Number of Column)\")\n",
    "        n=int(input())\n",
    "        print(\"Enter the value of m(Number of Rows)\")\n",
    "        m=int(input())\n",
    "        column_name = [0]*n\n",
    "        print(\"Enter the column name:\")\n",
    "        for i in range(n):\n",
    "            column_name[i] = input()\n",
    "            \n",
    "        mat = []\n",
    "        for i in range(m):\n",
    "            print(\"Enter the Value of row \",(i+1))\n",
    "            mat.append([])\n",
    "            for j in range(n):\n",
    "                mat[i].append(int(input()))\n",
    "                \n",
    "        return pd.DataFrame(mat,columns=column_name)\n",
    "    elif choice==3:\n",
    "        print(\"Enter the filename:\")\n",
    "        path = input()\n",
    "        if path[-4:] ==\".csv\" or path[-4:] =='.txt':\n",
    "            return pd.read_csv(path)\n",
    "        elif path[-4:] == 'json':\n",
    "            return pd.read_json(path)\n",
    "        else:\n",
    "            print(\"Wrong Choice!\\nDataFrame can not be created\")\n",
    "            return None\n",
    "    else:\n",
    "        print(\"Wrong Choice!\\nDataFrame can not be created\")\n",
    "        return None"
   ]
  },
  {
   "cell_type": "code",
   "execution_count": 5,
   "metadata": {},
   "outputs": [],
   "source": [
    "def plotter2(plotNUm,colm):\n",
    "    for i in colm:\n",
    "        if i not in df1.columns:\n",
    "            print(\"Columns Does Not Exists\")\n",
    "            return None\n",
    "    \n",
    "    if plotNUm ==1:\n",
    "        finalplot = df1[colm].iplot(kind='scatter')\n",
    "    elif plotNUm ==2:\n",
    "        finalplot = df1[colm].iplot(kind='scatter',mode='markers',symbol='x')\n",
    "    elif plotNUm ==3:\n",
    "        finalplot = df1[colm].iplot(kind='bar')\n",
    "    elif plotNUm ==4:\n",
    "        finalplot = df1[colm].iplot(kind='hist')\n",
    "    elif plotNUm ==5:\n",
    "        finalplot = df1[colm].iplot(kind='box')\n",
    "    elif plotNUm ==6:\n",
    "        if len(colm)==1:\n",
    "            finalplot = print(\"Bubble plot require more than 1 column.\")\n",
    "        else:\n",
    "            finalplot = df1[colm].iplot(kind='bubble')\n",
    "    elif plotNUm==7:\n",
    "        if len(colm) ==1:\n",
    "            finalplot = print(\"Surface plot require more than 1 column.\")\n",
    "        else:\n",
    "            finalplot = df1[colm].iplot(kind='surface')\n",
    "    else:\n",
    "        finalplot = print(\"Wrong Choice!!\\nPlease Select from 1 to 7\")\n",
    "\n",
    "    return finalplot"
   ]
  },
  {
   "cell_type": "code",
   "execution_count": 6,
   "metadata": {},
   "outputs": [],
   "source": [
    "def plotter(plotNUm,cat):\n",
    "    if cat==1:\n",
    "        if plotNUm ==1:\n",
    "            finalplot = df1.iplot(kind='scatter')\n",
    "        elif plotNUm ==2:\n",
    "            finalplot = df1.iplot(kind='scatter',mode='markers',symbol='x',colorscale='paired')\n",
    "        elif plotNUm ==3:\n",
    "            finalplot = df1.iplot(kind='bar')\n",
    "        elif plotNUm ==4:\n",
    "            finalplot = df1.iplot(kind='hist')\n",
    "        elif plotNUm ==5:\n",
    "            finalplot = df1.iplot(kind='box')\n",
    "        elif plotNUm ==6:\n",
    "            finalplot = df1.iplot(kind='surface')\n",
    "        else:\n",
    "            finalplot=print(\"Wrong Choice!!\\nPlease Select from 1 to 6\")\n",
    "        return finalplot\n",
    "    elif cat==2:\n",
    "        col = int(input(\"Enter the number of columns you want to plot by selecting only 1, 2 or 3\\n\"))\n",
    "        if col==1:\n",
    "            colm = input(\"Enter the column name you want to plot by selecting any column from dataframe\\n\")\n",
    "            return plotter2(plotNUm,colm)\n",
    "        elif col==2:\n",
    "            print(\"Enter the two column name you want to plot by selecting any column from dataframe\\n\")\n",
    "            colm1 = input('First Column\\n')\n",
    "            colm2 = input('Second Column\\n')\n",
    "            colm = [colm1,colm2]\n",
    "            return plotter2(plotNUm,colm)\n",
    "        elif col==3:\n",
    "            print(\"Enter the three column name you want to plot by selecting any column from dataframe\\n\")\n",
    "            colm1 = input('First Column\\n')\n",
    "            colm2 = input('Second Column\\n')\n",
    "            colm3 = input('Third Column\\n')\n",
    "            colm = [colm1,colm2,colm3]\n",
    "            return plotter2(plotNUm,colm)\n",
    "        else:\n",
    "            print(\"Cant Consider more than 3 columns\\n\")\n",
    "            return None\n",
    "    else:\n",
    "        print(\"Only Two Options Available\\nPlease Try Again.\")"
   ]
  },
  {
   "cell_type": "code",
   "execution_count": 7,
   "metadata": {},
   "outputs": [],
   "source": [
    "def plot(cat):\n",
    "    print(\"Select Type of Plot:\")\n",
    "    print(\"1--->Line Plot\")\n",
    "    print(\"2--->Scatter Plot\")\n",
    "    print(\"3--->Bar Plot\")\n",
    "    print(\"4--->Histogram\")\n",
    "    print(\"5--->Box Plot\")\n",
    "    print(\"6--->Surface Plot\")\n",
    "    if cat==1:\n",
    "        print()\n",
    "        plotNum = int(input())\n",
    "        output = plotter(plotNum,cat)\n",
    "    elif cat==2:\n",
    "        print(\"7--->Bubble Plot\")\n",
    "        print()\n",
    "        plotNum = int(input())\n",
    "        output = plotter(plotNum,cat)\n",
    "    else:\n",
    "        print(\"Please Enter either 1 or 2\\nTry again!!\")"
   ]
  },
  {
   "cell_type": "code",
   "execution_count": 8,
   "metadata": {},
   "outputs": [
    {
     "name": "stdout",
     "output_type": "stream",
     "text": [
      "Select the type of data you need to plot.\n",
      "1--->Random Data with 100 rows and 5 columns\n",
      "2--->Customize dataframe with n columns and m rows with Integer Values\n",
      "3--->Upload csv/json/text file.\n"
     ]
    },
    {
     "name": "stdin",
     "output_type": "stream",
     "text": [
      " 1\n"
     ]
    },
    {
     "name": "stdout",
     "output_type": "stream",
     "text": [
      "\n",
      "Your Data Frame :\n",
      "\n",
      "          A         B         C         D         E\n",
      "0  0.106937  0.576314  0.201478  0.232875  0.920509\n",
      "1  0.242561  0.851802  0.176698  0.050973  0.145713\n",
      "2  0.323270  0.226902  0.671997  0.791357  0.501326\n",
      "3  0.992628  0.531081  0.909753  0.059305  0.927788\n",
      "4  0.396477  0.372976  0.238819  0.917606  0.827000\n",
      "\n",
      "What kind of plot you want to plot:\n",
      "\n",
      "1---> Complete Data Plot\n",
      "2---> A Particular Column Plot\n",
      "\n"
     ]
    },
    {
     "name": "stdin",
     "output_type": "stream",
     "text": [
      " 2\n"
     ]
    },
    {
     "name": "stdout",
     "output_type": "stream",
     "text": [
      "\n",
      "Select Type of Plot:\n",
      "1--->Line Plot\n",
      "2--->Scatter Plot\n",
      "3--->Bar Plot\n",
      "4--->Histogram\n",
      "5--->Box Plot\n",
      "6--->Surface Plot\n",
      "7--->Bubble Plot\n",
      "\n"
     ]
    },
    {
     "name": "stdin",
     "output_type": "stream",
     "text": [
      " 3\n",
      "Enter the number of columns you want to plot by selecting only 1, 2 or 3\n",
      " 3\n"
     ]
    },
    {
     "name": "stdout",
     "output_type": "stream",
     "text": [
      "Enter the three column name you want to plot by selecting any column from dataframe\n",
      "\n"
     ]
    },
    {
     "name": "stdin",
     "output_type": "stream",
     "text": [
      "First Column\n",
      " A\n",
      "Second Column\n",
      " B\n",
      "Third Column\n",
      " E\n"
     ]
    },
    {
     "data": {
      "application/vnd.plotly.v1+json": {
       "config": {
        "linkText": "Export to plot.ly",
        "plotlyServerURL": "https://plot.ly",
        "showLink": true
       },
       "data": [
        {
         "marker": {
          "color": "rgba(255, 153, 51, 0.6)",
          "line": {
           "color": "rgba(255, 153, 51, 1.0)",
           "width": 1
          }
         },
         "name": "A",
         "orientation": "v",
         "text": "",
         "type": "bar",
         "x": [
          0,
          1,
          2,
          3,
          4,
          5,
          6,
          7,
          8,
          9,
          10,
          11,
          12,
          13,
          14,
          15,
          16,
          17,
          18,
          19,
          20,
          21,
          22,
          23,
          24,
          25,
          26,
          27,
          28,
          29,
          30,
          31,
          32,
          33,
          34,
          35,
          36,
          37,
          38,
          39,
          40,
          41,
          42,
          43,
          44,
          45,
          46,
          47,
          48,
          49,
          50,
          51,
          52,
          53,
          54,
          55,
          56,
          57,
          58,
          59,
          60,
          61,
          62,
          63,
          64,
          65,
          66,
          67,
          68,
          69,
          70,
          71,
          72,
          73,
          74,
          75,
          76,
          77,
          78,
          79,
          80,
          81,
          82,
          83,
          84,
          85,
          86,
          87,
          88,
          89,
          90,
          91,
          92,
          93,
          94,
          95,
          96,
          97,
          98,
          99
         ],
         "y": [
          0.10693667954779218,
          0.24256124701735293,
          0.32327038759471394,
          0.9926282753539694,
          0.39647676735702186,
          0.580915696120301,
          0.13915804100345874,
          0.3059256612774178,
          0.39288680041378277,
          0.41964404096657293,
          0.33026032139718153,
          0.20193039408674085,
          0.05934268199262527,
          0.2255872528250893,
          0.16400394718650835,
          0.8007405633725994,
          0.6586245334068362,
          0.2802988319105769,
          0.027042695185928167,
          0.8835246617420722,
          0.1270846434464954,
          0.4705789949540248,
          0.4837305181885959,
          0.21072848406350997,
          0.23830395178991415,
          0.6003768159709585,
          0.5968611111636482,
          0.4511261634707131,
          0.8162237415999153,
          0.994477613480827,
          0.7102611826929519,
          0.8240768630093623,
          0.7782753556343814,
          0.8466081309563188,
          0.8144012135278166,
          0.9928130964591408,
          0.8995058686530472,
          0.3678701179418967,
          0.16296907927786253,
          0.8353055648605958,
          0.25557768781410817,
          0.26096732279447643,
          0.7972800836976364,
          0.30236847253583243,
          0.18866825332346804,
          0.4734861419229056,
          0.07437890204250808,
          0.8583096439522495,
          0.006485668933478905,
          0.6408244004815866,
          0.33109055780956453,
          0.44377155835024085,
          0.4243131550832817,
          0.07054760692591155,
          0.19613479540985757,
          0.6176956731470001,
          0.07872622671717633,
          0.6221972560629158,
          0.3243023837680258,
          0.012597472605228699,
          0.4144435068573983,
          0.7253632102610061,
          0.6552556493358831,
          0.2986945210128227,
          0.26926263297004915,
          0.15757992999133896,
          0.3995139478330919,
          0.24425115383931761,
          0.8593905918216864,
          0.32211369995990935,
          0.8988684186275044,
          0.9700463140503627,
          0.6398253490174224,
          0.43690687519050175,
          0.9952692389372451,
          0.05904320098621163,
          0.4046996032755127,
          0.9213210944406072,
          0.8151424115810723,
          0.6623592699215711,
          0.43827730116020114,
          0.9392172255199156,
          0.41091023779823077,
          0.4799890053720467,
          0.8038609082756017,
          0.7759695861903961,
          0.7417862130280164,
          0.5311318321023215,
          0.5788737918842034,
          0.7373626619801327,
          0.9730052588385794,
          0.6103702028453851,
          0.4731715262792252,
          0.1330237662020578,
          0.5780934923058492,
          0.4907878567185727,
          0.7860139020645398,
          0.5387430072025694,
          0.11256375327682488,
          0.19070481131696115
         ]
        },
        {
         "marker": {
          "color": "rgba(55, 128, 191, 0.6)",
          "line": {
           "color": "rgba(55, 128, 191, 1.0)",
           "width": 1
          }
         },
         "name": "B",
         "orientation": "v",
         "text": "",
         "type": "bar",
         "x": [
          0,
          1,
          2,
          3,
          4,
          5,
          6,
          7,
          8,
          9,
          10,
          11,
          12,
          13,
          14,
          15,
          16,
          17,
          18,
          19,
          20,
          21,
          22,
          23,
          24,
          25,
          26,
          27,
          28,
          29,
          30,
          31,
          32,
          33,
          34,
          35,
          36,
          37,
          38,
          39,
          40,
          41,
          42,
          43,
          44,
          45,
          46,
          47,
          48,
          49,
          50,
          51,
          52,
          53,
          54,
          55,
          56,
          57,
          58,
          59,
          60,
          61,
          62,
          63,
          64,
          65,
          66,
          67,
          68,
          69,
          70,
          71,
          72,
          73,
          74,
          75,
          76,
          77,
          78,
          79,
          80,
          81,
          82,
          83,
          84,
          85,
          86,
          87,
          88,
          89,
          90,
          91,
          92,
          93,
          94,
          95,
          96,
          97,
          98,
          99
         ],
         "y": [
          0.5763143086394585,
          0.8518024344634176,
          0.22690161739765258,
          0.5310813173796304,
          0.37297560125063256,
          0.8246186468149654,
          0.06612138282262059,
          0.1914794801825831,
          0.11398682284030048,
          0.6236952670752438,
          0.24204384483166097,
          0.5372515135587324,
          0.9005835132791566,
          0.619401247637462,
          0.3133572913805739,
          0.9360225192557469,
          0.48038204206259727,
          0.08602364543555074,
          0.2502340302365632,
          0.4943528692765662,
          0.166770194710684,
          0.3629926631569811,
          0.5350376953730746,
          0.6715100271926846,
          0.20551826465385747,
          0.5129965139708705,
          0.9042886448654922,
          0.8206541491630303,
          0.7769515324442484,
          0.6573141104741668,
          0.91597493351202,
          0.5205596194038236,
          0.05199710555408399,
          0.3230694383242231,
          0.4085392970056857,
          0.04088727418757021,
          0.11820943611132395,
          0.5459013177703063,
          0.9796162203019267,
          0.3151254460347591,
          0.47756195649929467,
          0.887602228748257,
          0.7613985384493772,
          0.0938826127409661,
          0.16928044500502437,
          0.5528384364157735,
          0.9343338834706463,
          0.24254998771850256,
          0.5974845991071399,
          0.29175972483289236,
          0.7600113809215246,
          0.8990656471314026,
          0.40763231632182695,
          0.2793630383074672,
          0.7862331321560925,
          0.11953980778162432,
          0.9075445629026786,
          0.19514936988087972,
          0.6536541891069667,
          0.3481231835982953,
          0.48273166921887045,
          0.22723550566539485,
          0.8597512234753314,
          0.9600435329247858,
          0.6735913271724403,
          0.527516851529847,
          0.7182647862312,
          0.2251851555748846,
          0.41388062375097723,
          0.12261269005718634,
          0.33801930226186716,
          0.7780283995230659,
          0.6150741175730162,
          0.07026730151226757,
          0.048957251900236365,
          0.5291929902511097,
          0.6639457594573642,
          0.022799225375960797,
          0.7981341422706817,
          0.0021109327298820535,
          0.902768307572854,
          0.40901467802001656,
          0.05328088928707764,
          0.14319681498081793,
          0.7411549358363269,
          0.9628289597881935,
          0.12793394714810036,
          0.8121759228300771,
          0.8979630045815721,
          0.952958267682849,
          0.2736808456580123,
          0.3485819586086575,
          0.45647679303006317,
          0.05417579872286271,
          0.20156436387937338,
          0.6668989720540046,
          0.5123904279798728,
          0.7317433588574831,
          0.9641275045346771,
          0.1856163490773679
         ]
        },
        {
         "marker": {
          "color": "rgba(50, 171, 96, 0.6)",
          "line": {
           "color": "rgba(50, 171, 96, 1.0)",
           "width": 1
          }
         },
         "name": "E",
         "orientation": "v",
         "text": "",
         "type": "bar",
         "x": [
          0,
          1,
          2,
          3,
          4,
          5,
          6,
          7,
          8,
          9,
          10,
          11,
          12,
          13,
          14,
          15,
          16,
          17,
          18,
          19,
          20,
          21,
          22,
          23,
          24,
          25,
          26,
          27,
          28,
          29,
          30,
          31,
          32,
          33,
          34,
          35,
          36,
          37,
          38,
          39,
          40,
          41,
          42,
          43,
          44,
          45,
          46,
          47,
          48,
          49,
          50,
          51,
          52,
          53,
          54,
          55,
          56,
          57,
          58,
          59,
          60,
          61,
          62,
          63,
          64,
          65,
          66,
          67,
          68,
          69,
          70,
          71,
          72,
          73,
          74,
          75,
          76,
          77,
          78,
          79,
          80,
          81,
          82,
          83,
          84,
          85,
          86,
          87,
          88,
          89,
          90,
          91,
          92,
          93,
          94,
          95,
          96,
          97,
          98,
          99
         ],
         "y": [
          0.9205086829167102,
          0.14571333117551977,
          0.5013259485618891,
          0.9277879417338206,
          0.8270000321274793,
          0.21146500960010606,
          0.2187247374734962,
          0.23885979133669677,
          0.1421268397010096,
          0.7848491328658928,
          0.7566906963638994,
          0.8250530205464487,
          0.5054940483295142,
          0.7223677142879517,
          0.36350992565332874,
          0.23054860571622782,
          0.8466425220626522,
          0.7692724814178853,
          0.006127778798319272,
          0.8719921914574518,
          0.7443856653076385,
          0.006026339801547764,
          0.3101145862330721,
          0.6152566605854266,
          0.14201957719803804,
          0.8213367984031527,
          0.310221355128124,
          0.5604753348083331,
          0.07357374173442,
          0.3342238982838822,
          0.2366558140603272,
          0.9722809266061678,
          0.20088869327720293,
          0.40021412301963566,
          0.1263218937578654,
          0.04914432312138084,
          0.8643597782600447,
          0.576405668958944,
          0.5760603338711114,
          0.09804996543827216,
          0.9644297270523254,
          0.2984681706563712,
          0.4464475459333902,
          0.9778085124675081,
          0.4846091102805381,
          0.779039235100648,
          0.34075867251870895,
          0.4937277888469518,
          0.8903085374308682,
          0.8900568198026867,
          0.5276300049789547,
          0.21293280902123113,
          0.10172380732178499,
          0.8676099811886494,
          0.2673338886270912,
          0.7641566421689728,
          0.8194206834789862,
          0.7327999847876029,
          0.3353081413646355,
          0.42451886316654996,
          0.6569535919775369,
          0.2835689672937889,
          0.008233923245354435,
          0.39606352935013434,
          0.36056673088151103,
          0.5905603241548739,
          0.6282683094525979,
          0.7610067978091971,
          0.18837542599595325,
          0.2387634682708143,
          0.4470217199247265,
          0.8428282660699665,
          0.8901053810046907,
          0.8697086014768177,
          0.5771266537718983,
          0.4708843136884384,
          0.9441560935473513,
          0.46421535982328876,
          0.10968724474276959,
          0.8702288394159304,
          0.30455723690923275,
          0.574388896240935,
          0.8677308701619638,
          0.21486197673852858,
          0.5145547818203293,
          0.7495351960131168,
          0.26661294709038197,
          0.6555481149012079,
          0.6100925595439222,
          0.7298542635842062,
          0.31555884952402236,
          0.5352939724777318,
          0.3747223036267576,
          0.9131240650079088,
          0.2753473598711125,
          0.4101808261872092,
          0.5966506888966231,
          0.752177208472652,
          0.7570147329268088,
          0.037262090171285456
         ]
        }
       ],
       "layout": {
        "autosize": true,
        "legend": {
         "bgcolor": "#F5F6F9",
         "font": {
          "color": "#4D5663"
         }
        },
        "paper_bgcolor": "#F5F6F9",
        "plot_bgcolor": "#F5F6F9",
        "template": {
         "data": {
          "bar": [
           {
            "error_x": {
             "color": "#2a3f5f"
            },
            "error_y": {
             "color": "#2a3f5f"
            },
            "marker": {
             "line": {
              "color": "#E5ECF6",
              "width": 0.5
             }
            },
            "type": "bar"
           }
          ],
          "barpolar": [
           {
            "marker": {
             "line": {
              "color": "#E5ECF6",
              "width": 0.5
             }
            },
            "type": "barpolar"
           }
          ],
          "carpet": [
           {
            "aaxis": {
             "endlinecolor": "#2a3f5f",
             "gridcolor": "white",
             "linecolor": "white",
             "minorgridcolor": "white",
             "startlinecolor": "#2a3f5f"
            },
            "baxis": {
             "endlinecolor": "#2a3f5f",
             "gridcolor": "white",
             "linecolor": "white",
             "minorgridcolor": "white",
             "startlinecolor": "#2a3f5f"
            },
            "type": "carpet"
           }
          ],
          "choropleth": [
           {
            "colorbar": {
             "outlinewidth": 0,
             "ticks": ""
            },
            "type": "choropleth"
           }
          ],
          "contour": [
           {
            "colorbar": {
             "outlinewidth": 0,
             "ticks": ""
            },
            "colorscale": [
             [
              0,
              "#0d0887"
             ],
             [
              0.1111111111111111,
              "#46039f"
             ],
             [
              0.2222222222222222,
              "#7201a8"
             ],
             [
              0.3333333333333333,
              "#9c179e"
             ],
             [
              0.4444444444444444,
              "#bd3786"
             ],
             [
              0.5555555555555556,
              "#d8576b"
             ],
             [
              0.6666666666666666,
              "#ed7953"
             ],
             [
              0.7777777777777778,
              "#fb9f3a"
             ],
             [
              0.8888888888888888,
              "#fdca26"
             ],
             [
              1,
              "#f0f921"
             ]
            ],
            "type": "contour"
           }
          ],
          "contourcarpet": [
           {
            "colorbar": {
             "outlinewidth": 0,
             "ticks": ""
            },
            "type": "contourcarpet"
           }
          ],
          "heatmap": [
           {
            "colorbar": {
             "outlinewidth": 0,
             "ticks": ""
            },
            "colorscale": [
             [
              0,
              "#0d0887"
             ],
             [
              0.1111111111111111,
              "#46039f"
             ],
             [
              0.2222222222222222,
              "#7201a8"
             ],
             [
              0.3333333333333333,
              "#9c179e"
             ],
             [
              0.4444444444444444,
              "#bd3786"
             ],
             [
              0.5555555555555556,
              "#d8576b"
             ],
             [
              0.6666666666666666,
              "#ed7953"
             ],
             [
              0.7777777777777778,
              "#fb9f3a"
             ],
             [
              0.8888888888888888,
              "#fdca26"
             ],
             [
              1,
              "#f0f921"
             ]
            ],
            "type": "heatmap"
           }
          ],
          "heatmapgl": [
           {
            "colorbar": {
             "outlinewidth": 0,
             "ticks": ""
            },
            "colorscale": [
             [
              0,
              "#0d0887"
             ],
             [
              0.1111111111111111,
              "#46039f"
             ],
             [
              0.2222222222222222,
              "#7201a8"
             ],
             [
              0.3333333333333333,
              "#9c179e"
             ],
             [
              0.4444444444444444,
              "#bd3786"
             ],
             [
              0.5555555555555556,
              "#d8576b"
             ],
             [
              0.6666666666666666,
              "#ed7953"
             ],
             [
              0.7777777777777778,
              "#fb9f3a"
             ],
             [
              0.8888888888888888,
              "#fdca26"
             ],
             [
              1,
              "#f0f921"
             ]
            ],
            "type": "heatmapgl"
           }
          ],
          "histogram": [
           {
            "marker": {
             "colorbar": {
              "outlinewidth": 0,
              "ticks": ""
             }
            },
            "type": "histogram"
           }
          ],
          "histogram2d": [
           {
            "colorbar": {
             "outlinewidth": 0,
             "ticks": ""
            },
            "colorscale": [
             [
              0,
              "#0d0887"
             ],
             [
              0.1111111111111111,
              "#46039f"
             ],
             [
              0.2222222222222222,
              "#7201a8"
             ],
             [
              0.3333333333333333,
              "#9c179e"
             ],
             [
              0.4444444444444444,
              "#bd3786"
             ],
             [
              0.5555555555555556,
              "#d8576b"
             ],
             [
              0.6666666666666666,
              "#ed7953"
             ],
             [
              0.7777777777777778,
              "#fb9f3a"
             ],
             [
              0.8888888888888888,
              "#fdca26"
             ],
             [
              1,
              "#f0f921"
             ]
            ],
            "type": "histogram2d"
           }
          ],
          "histogram2dcontour": [
           {
            "colorbar": {
             "outlinewidth": 0,
             "ticks": ""
            },
            "colorscale": [
             [
              0,
              "#0d0887"
             ],
             [
              0.1111111111111111,
              "#46039f"
             ],
             [
              0.2222222222222222,
              "#7201a8"
             ],
             [
              0.3333333333333333,
              "#9c179e"
             ],
             [
              0.4444444444444444,
              "#bd3786"
             ],
             [
              0.5555555555555556,
              "#d8576b"
             ],
             [
              0.6666666666666666,
              "#ed7953"
             ],
             [
              0.7777777777777778,
              "#fb9f3a"
             ],
             [
              0.8888888888888888,
              "#fdca26"
             ],
             [
              1,
              "#f0f921"
             ]
            ],
            "type": "histogram2dcontour"
           }
          ],
          "mesh3d": [
           {
            "colorbar": {
             "outlinewidth": 0,
             "ticks": ""
            },
            "type": "mesh3d"
           }
          ],
          "parcoords": [
           {
            "line": {
             "colorbar": {
              "outlinewidth": 0,
              "ticks": ""
             }
            },
            "type": "parcoords"
           }
          ],
          "pie": [
           {
            "automargin": true,
            "type": "pie"
           }
          ],
          "scatter": [
           {
            "marker": {
             "colorbar": {
              "outlinewidth": 0,
              "ticks": ""
             }
            },
            "type": "scatter"
           }
          ],
          "scatter3d": [
           {
            "line": {
             "colorbar": {
              "outlinewidth": 0,
              "ticks": ""
             }
            },
            "marker": {
             "colorbar": {
              "outlinewidth": 0,
              "ticks": ""
             }
            },
            "type": "scatter3d"
           }
          ],
          "scattercarpet": [
           {
            "marker": {
             "colorbar": {
              "outlinewidth": 0,
              "ticks": ""
             }
            },
            "type": "scattercarpet"
           }
          ],
          "scattergeo": [
           {
            "marker": {
             "colorbar": {
              "outlinewidth": 0,
              "ticks": ""
             }
            },
            "type": "scattergeo"
           }
          ],
          "scattergl": [
           {
            "marker": {
             "colorbar": {
              "outlinewidth": 0,
              "ticks": ""
             }
            },
            "type": "scattergl"
           }
          ],
          "scattermapbox": [
           {
            "marker": {
             "colorbar": {
              "outlinewidth": 0,
              "ticks": ""
             }
            },
            "type": "scattermapbox"
           }
          ],
          "scatterpolar": [
           {
            "marker": {
             "colorbar": {
              "outlinewidth": 0,
              "ticks": ""
             }
            },
            "type": "scatterpolar"
           }
          ],
          "scatterpolargl": [
           {
            "marker": {
             "colorbar": {
              "outlinewidth": 0,
              "ticks": ""
             }
            },
            "type": "scatterpolargl"
           }
          ],
          "scatterternary": [
           {
            "marker": {
             "colorbar": {
              "outlinewidth": 0,
              "ticks": ""
             }
            },
            "type": "scatterternary"
           }
          ],
          "surface": [
           {
            "colorbar": {
             "outlinewidth": 0,
             "ticks": ""
            },
            "colorscale": [
             [
              0,
              "#0d0887"
             ],
             [
              0.1111111111111111,
              "#46039f"
             ],
             [
              0.2222222222222222,
              "#7201a8"
             ],
             [
              0.3333333333333333,
              "#9c179e"
             ],
             [
              0.4444444444444444,
              "#bd3786"
             ],
             [
              0.5555555555555556,
              "#d8576b"
             ],
             [
              0.6666666666666666,
              "#ed7953"
             ],
             [
              0.7777777777777778,
              "#fb9f3a"
             ],
             [
              0.8888888888888888,
              "#fdca26"
             ],
             [
              1,
              "#f0f921"
             ]
            ],
            "type": "surface"
           }
          ],
          "table": [
           {
            "cells": {
             "fill": {
              "color": "#EBF0F8"
             },
             "line": {
              "color": "white"
             }
            },
            "header": {
             "fill": {
              "color": "#C8D4E3"
             },
             "line": {
              "color": "white"
             }
            },
            "type": "table"
           }
          ]
         },
         "layout": {
          "annotationdefaults": {
           "arrowcolor": "#2a3f5f",
           "arrowhead": 0,
           "arrowwidth": 1
          },
          "coloraxis": {
           "colorbar": {
            "outlinewidth": 0,
            "ticks": ""
           }
          },
          "colorscale": {
           "diverging": [
            [
             0,
             "#8e0152"
            ],
            [
             0.1,
             "#c51b7d"
            ],
            [
             0.2,
             "#de77ae"
            ],
            [
             0.3,
             "#f1b6da"
            ],
            [
             0.4,
             "#fde0ef"
            ],
            [
             0.5,
             "#f7f7f7"
            ],
            [
             0.6,
             "#e6f5d0"
            ],
            [
             0.7,
             "#b8e186"
            ],
            [
             0.8,
             "#7fbc41"
            ],
            [
             0.9,
             "#4d9221"
            ],
            [
             1,
             "#276419"
            ]
           ],
           "sequential": [
            [
             0,
             "#0d0887"
            ],
            [
             0.1111111111111111,
             "#46039f"
            ],
            [
             0.2222222222222222,
             "#7201a8"
            ],
            [
             0.3333333333333333,
             "#9c179e"
            ],
            [
             0.4444444444444444,
             "#bd3786"
            ],
            [
             0.5555555555555556,
             "#d8576b"
            ],
            [
             0.6666666666666666,
             "#ed7953"
            ],
            [
             0.7777777777777778,
             "#fb9f3a"
            ],
            [
             0.8888888888888888,
             "#fdca26"
            ],
            [
             1,
             "#f0f921"
            ]
           ],
           "sequentialminus": [
            [
             0,
             "#0d0887"
            ],
            [
             0.1111111111111111,
             "#46039f"
            ],
            [
             0.2222222222222222,
             "#7201a8"
            ],
            [
             0.3333333333333333,
             "#9c179e"
            ],
            [
             0.4444444444444444,
             "#bd3786"
            ],
            [
             0.5555555555555556,
             "#d8576b"
            ],
            [
             0.6666666666666666,
             "#ed7953"
            ],
            [
             0.7777777777777778,
             "#fb9f3a"
            ],
            [
             0.8888888888888888,
             "#fdca26"
            ],
            [
             1,
             "#f0f921"
            ]
           ]
          },
          "colorway": [
           "#636efa",
           "#EF553B",
           "#00cc96",
           "#ab63fa",
           "#FFA15A",
           "#19d3f3",
           "#FF6692",
           "#B6E880",
           "#FF97FF",
           "#FECB52"
          ],
          "font": {
           "color": "#2a3f5f"
          },
          "geo": {
           "bgcolor": "white",
           "lakecolor": "white",
           "landcolor": "#E5ECF6",
           "showlakes": true,
           "showland": true,
           "subunitcolor": "white"
          },
          "hoverlabel": {
           "align": "left"
          },
          "hovermode": "closest",
          "mapbox": {
           "style": "light"
          },
          "paper_bgcolor": "white",
          "plot_bgcolor": "#E5ECF6",
          "polar": {
           "angularaxis": {
            "gridcolor": "white",
            "linecolor": "white",
            "ticks": ""
           },
           "bgcolor": "#E5ECF6",
           "radialaxis": {
            "gridcolor": "white",
            "linecolor": "white",
            "ticks": ""
           }
          },
          "scene": {
           "xaxis": {
            "backgroundcolor": "#E5ECF6",
            "gridcolor": "white",
            "gridwidth": 2,
            "linecolor": "white",
            "showbackground": true,
            "ticks": "",
            "zerolinecolor": "white"
           },
           "yaxis": {
            "backgroundcolor": "#E5ECF6",
            "gridcolor": "white",
            "gridwidth": 2,
            "linecolor": "white",
            "showbackground": true,
            "ticks": "",
            "zerolinecolor": "white"
           },
           "zaxis": {
            "backgroundcolor": "#E5ECF6",
            "gridcolor": "white",
            "gridwidth": 2,
            "linecolor": "white",
            "showbackground": true,
            "ticks": "",
            "zerolinecolor": "white"
           }
          },
          "shapedefaults": {
           "line": {
            "color": "#2a3f5f"
           }
          },
          "ternary": {
           "aaxis": {
            "gridcolor": "white",
            "linecolor": "white",
            "ticks": ""
           },
           "baxis": {
            "gridcolor": "white",
            "linecolor": "white",
            "ticks": ""
           },
           "bgcolor": "#E5ECF6",
           "caxis": {
            "gridcolor": "white",
            "linecolor": "white",
            "ticks": ""
           }
          },
          "title": {
           "x": 0.05
          },
          "xaxis": {
           "automargin": true,
           "gridcolor": "white",
           "linecolor": "white",
           "ticks": "",
           "title": {
            "standoff": 15
           },
           "zerolinecolor": "white",
           "zerolinewidth": 2
          },
          "yaxis": {
           "automargin": true,
           "gridcolor": "white",
           "linecolor": "white",
           "ticks": "",
           "title": {
            "standoff": 15
           },
           "zerolinecolor": "white",
           "zerolinewidth": 2
          }
         }
        },
        "title": {
         "font": {
          "color": "#4D5663"
         }
        },
        "xaxis": {
         "autorange": true,
         "gridcolor": "#E1E5ED",
         "range": [
          -0.5,
          99.5
         ],
         "showgrid": true,
         "tickfont": {
          "color": "#4D5663"
         },
         "title": {
          "font": {
           "color": "#4D5663"
          },
          "text": ""
         },
         "type": "linear",
         "zerolinecolor": "#E1E5ED"
        },
        "yaxis": {
         "autorange": true,
         "gridcolor": "#E1E5ED",
         "range": [
          0,
          1.047651830460258
         ],
         "showgrid": true,
         "tickfont": {
          "color": "#4D5663"
         },
         "title": {
          "font": {
           "color": "#4D5663"
          },
          "text": ""
         },
         "type": "linear",
         "zerolinecolor": "#E1E5ED"
        }
       }
      },
      "image/png": "[encoded data removed]",
      "text/html": [
       "<div>                            <div id=\"8a865162-edc0-4ce9-bc0e-c0d3cc64cead\" class=\"plotly-graph-div\" style=\"height:525px; width:100%;\"></div>            <script type=\"text/javascript\">                require([\"plotly\"], function(Plotly) {                    window.PLOTLYENV=window.PLOTLYENV || {};\n",
       "                    window.PLOTLYENV.BASE_URL='https://plot.ly';                                    if (document.getElementById(\"8a865162-edc0-4ce9-bc0e-c0d3cc64cead\")) {                    Plotly.newPlot(                        \"8a865162-edc0-4ce9-bc0e-c0d3cc64cead\",                        [{\"marker\": {\"color\": \"rgba(255, 153, 51, 0.6)\", \"line\": {\"color\": \"rgba(255, 153, 51, 1.0)\", \"width\": 1}}, \"name\": \"A\", \"orientation\": \"v\", \"text\": \"\", \"type\": \"bar\", \"x\": [0, 1, 2, 3, 4, 5, 6, 7, 8, 9, 10, 11, 12, 13, 14, 15, 16, 17, 18, 19, 20, 21, 22, 23, 24, 25, 26, 27, 28, 29, 30, 31, 32, 33, 34, 35, 36, 37, 38, 39, 40, 41, 42, 43, 44, 45, 46, 47, 48, 49, 50, 51, 52, 53, 54, 55, 56, 57, 58, 59, 60, 61, 62, 63, 64, 65, 66, 67, 68, 69, 70, 71, 72, 73, 74, 75, 76, 77, 78, 79, 80, 81, 82, 83, 84, 85, 86, 87, 88, 89, 90, 91, 92, 93, 94, 95, 96, 97, 98, 99], \"y\": [0.10693667954779218, 0.24256124701735293, 0.32327038759471394, 0.9926282753539694, 0.39647676735702186, 0.580915696120301, 0.13915804100345874, 0.3059256612774178, 0.39288680041378277, 0.41964404096657293, 0.33026032139718153, 0.20193039408674085, 0.05934268199262527, 0.2255872528250893, 0.16400394718650835, 0.8007405633725994, 0.6586245334068362, 0.2802988319105769, 0.027042695185928167, 0.8835246617420722, 0.1270846434464954, 0.4705789949540248, 0.4837305181885959, 0.21072848406350997, 0.23830395178991415, 0.6003768159709585, 0.5968611111636482, 0.4511261634707131, 0.8162237415999153, 0.994477613480827, 0.7102611826929519, 0.8240768630093623, 0.7782753556343814, 0.8466081309563188, 0.8144012135278166, 0.9928130964591408, 0.8995058686530472, 0.3678701179418967, 0.16296907927786253, 0.8353055648605958, 0.25557768781410817, 0.26096732279447643, 0.7972800836976364, 0.30236847253583243, 0.18866825332346804, 0.4734861419229056, 0.07437890204250808, 0.8583096439522495, 0.006485668933478905, 0.6408244004815866, 0.33109055780956453, 0.44377155835024085, 0.4243131550832817, 0.07054760692591155, 0.19613479540985757, 0.6176956731470001, 0.07872622671717633, 0.6221972560629158, 0.3243023837680258, 0.012597472605228699, 0.4144435068573983, 0.7253632102610061, 0.6552556493358831, 0.2986945210128227, 0.26926263297004915, 0.15757992999133896, 0.3995139478330919, 0.24425115383931761, 0.8593905918216864, 0.32211369995990935, 0.8988684186275044, 0.9700463140503627, 0.6398253490174224, 0.43690687519050175, 0.9952692389372451, 0.05904320098621163, 0.4046996032755127, 0.9213210944406072, 0.8151424115810723, 0.6623592699215711, 0.43827730116020114, 0.9392172255199156, 0.41091023779823077, 0.4799890053720467, 0.8038609082756017, 0.7759695861903961, 0.7417862130280164, 0.5311318321023215, 0.5788737918842034, 0.7373626619801327, 0.9730052588385794, 0.6103702028453851, 0.4731715262792252, 0.1330237662020578, 0.5780934923058492, 0.4907878567185727, 0.7860139020645398, 0.5387430072025694, 0.11256375327682488, 0.19070481131696115]}, {\"marker\": {\"color\": \"rgba(55, 128, 191, 0.6)\", \"line\": {\"color\": \"rgba(55, 128, 191, 1.0)\", \"width\": 1}}, \"name\": \"B\", \"orientation\": \"v\", \"text\": \"\", \"type\": \"bar\", \"x\": [0, 1, 2, 3, 4, 5, 6, 7, 8, 9, 10, 11, 12, 13, 14, 15, 16, 17, 18, 19, 20, 21, 22, 23, 24, 25, 26, 27, 28, 29, 30, 31, 32, 33, 34, 35, 36, 37, 38, 39, 40, 41, 42, 43, 44, 45, 46, 47, 48, 49, 50, 51, 52, 53, 54, 55, 56, 57, 58, 59, 60, 61, 62, 63, 64, 65, 66, 67, 68, 69, 70, 71, 72, 73, 74, 75, 76, 77, 78, 79, 80, 81, 82, 83, 84, 85, 86, 87, 88, 89, 90, 91, 92, 93, 94, 95, 96, 97, 98, 99], \"y\": [0.5763143086394585, 0.8518024344634176, 0.22690161739765258, 0.5310813173796304, 0.37297560125063256, 0.8246186468149654, 0.06612138282262059, 0.1914794801825831, 0.11398682284030048, 0.6236952670752438, 0.24204384483166097, 0.5372515135587324, 0.9005835132791566, 0.619401247637462, 0.3133572913805739, 0.9360225192557469, 0.48038204206259727, 0.08602364543555074, 0.2502340302365632, 0.4943528692765662, 0.166770194710684, 0.3629926631569811, 0.5350376953730746, 0.6715100271926846, 0.20551826465385747, 0.5129965139708705, 0.9042886448654922, 0.8206541491630303, 0.7769515324442484, 0.6573141104741668, 0.91597493351202, 0.5205596194038236, 0.05199710555408399, 0.3230694383242231, 0.4085392970056857, 0.04088727418757021, 0.11820943611132395, 0.5459013177703063, 0.9796162203019267, 0.3151254460347591, 0.47756195649929467, 0.887602228748257, 0.7613985384493772, 0.0938826127409661, 0.16928044500502437, 0.5528384364157735, 0.9343338834706463, 0.24254998771850256, 0.5974845991071399, 0.29175972483289236, 0.7600113809215246, 0.8990656471314026, 0.40763231632182695, 0.2793630383074672, 0.7862331321560925, 0.11953980778162432, 0.9075445629026786, 0.19514936988087972, 0.6536541891069667, 0.3481231835982953, 0.48273166921887045, 0.22723550566539485, 0.8597512234753314, 0.9600435329247858, 0.6735913271724403, 0.527516851529847, 0.7182647862312, 0.2251851555748846, 0.41388062375097723, 0.12261269005718634, 0.33801930226186716, 0.7780283995230659, 0.6150741175730162, 0.07026730151226757, 0.048957251900236365, 0.5291929902511097, 0.6639457594573642, 0.022799225375960797, 0.7981341422706817, 0.0021109327298820535, 0.902768307572854, 0.40901467802001656, 0.05328088928707764, 0.14319681498081793, 0.7411549358363269, 0.9628289597881935, 0.12793394714810036, 0.8121759228300771, 0.8979630045815721, 0.952958267682849, 0.2736808456580123, 0.3485819586086575, 0.45647679303006317, 0.05417579872286271, 0.20156436387937338, 0.6668989720540046, 0.5123904279798728, 0.7317433588574831, 0.9641275045346771, 0.1856163490773679]}, {\"marker\": {\"color\": \"rgba(50, 171, 96, 0.6)\", \"line\": {\"color\": \"rgba(50, 171, 96, 1.0)\", \"width\": 1}}, \"name\": \"E\", \"orientation\": \"v\", \"text\": \"\", \"type\": \"bar\", \"x\": [0, 1, 2, 3, 4, 5, 6, 7, 8, 9, 10, 11, 12, 13, 14, 15, 16, 17, 18, 19, 20, 21, 22, 23, 24, 25, 26, 27, 28, 29, 30, 31, 32, 33, 34, 35, 36, 37, 38, 39, 40, 41, 42, 43, 44, 45, 46, 47, 48, 49, 50, 51, 52, 53, 54, 55, 56, 57, 58, 59, 60, 61, 62, 63, 64, 65, 66, 67, 68, 69, 70, 71, 72, 73, 74, 75, 76, 77, 78, 79, 80, 81, 82, 83, 84, 85, 86, 87, 88, 89, 90, 91, 92, 93, 94, 95, 96, 97, 98, 99], \"y\": [0.9205086829167102, 0.14571333117551977, 0.5013259485618891, 0.9277879417338206, 0.8270000321274793, 0.21146500960010606, 0.2187247374734962, 0.23885979133669677, 0.1421268397010096, 0.7848491328658928, 0.7566906963638994, 0.8250530205464487, 0.5054940483295142, 0.7223677142879517, 0.36350992565332874, 0.23054860571622782, 0.8466425220626522, 0.7692724814178853, 0.006127778798319272, 0.8719921914574518, 0.7443856653076385, 0.006026339801547764, 0.3101145862330721, 0.6152566605854266, 0.14201957719803804, 0.8213367984031527, 0.310221355128124, 0.5604753348083331, 0.07357374173442, 0.3342238982838822, 0.2366558140603272, 0.9722809266061678, 0.20088869327720293, 0.40021412301963566, 0.1263218937578654, 0.04914432312138084, 0.8643597782600447, 0.576405668958944, 0.5760603338711114, 0.09804996543827216, 0.9644297270523254, 0.2984681706563712, 0.4464475459333902, 0.9778085124675081, 0.4846091102805381, 0.779039235100648, 0.34075867251870895, 0.4937277888469518, 0.8903085374308682, 0.8900568198026867, 0.5276300049789547, 0.21293280902123113, 0.10172380732178499, 0.8676099811886494, 0.2673338886270912, 0.7641566421689728, 0.8194206834789862, 0.7327999847876029, 0.3353081413646355, 0.42451886316654996, 0.6569535919775369, 0.2835689672937889, 0.008233923245354435, 0.39606352935013434, 0.36056673088151103, 0.5905603241548739, 0.6282683094525979, 0.7610067978091971, 0.18837542599595325, 0.2387634682708143, 0.4470217199247265, 0.8428282660699665, 0.8901053810046907, 0.8697086014768177, 0.5771266537718983, 0.4708843136884384, 0.9441560935473513, 0.46421535982328876, 0.10968724474276959, 0.8702288394159304, 0.30455723690923275, 0.574388896240935, 0.8677308701619638, 0.21486197673852858, 0.5145547818203293, 0.7495351960131168, 0.26661294709038197, 0.6555481149012079, 0.6100925595439222, 0.7298542635842062, 0.31555884952402236, 0.5352939724777318, 0.3747223036267576, 0.9131240650079088, 0.2753473598711125, 0.4101808261872092, 0.5966506888966231, 0.752177208472652, 0.7570147329268088, 0.037262090171285456]}],                        {\"legend\": {\"bgcolor\": \"#F5F6F9\", \"font\": {\"color\": \"#4D5663\"}}, \"paper_bgcolor\": \"#F5F6F9\", \"plot_bgcolor\": \"#F5F6F9\", \"template\": {\"data\": {\"bar\": [{\"error_x\": {\"color\": \"#2a3f5f\"}, \"error_y\": {\"color\": \"#2a3f5f\"}, \"marker\": {\"line\": {\"color\": \"#E5ECF6\", \"width\": 0.5}}, \"type\": \"bar\"}], \"barpolar\": [{\"marker\": {\"line\": {\"color\": \"#E5ECF6\", \"width\": 0.5}}, \"type\": \"barpolar\"}], \"carpet\": [{\"aaxis\": {\"endlinecolor\": \"#2a3f5f\", \"gridcolor\": \"white\", \"linecolor\": \"white\", \"minorgridcolor\": \"white\", \"startlinecolor\": \"#2a3f5f\"}, \"baxis\": {\"endlinecolor\": \"#2a3f5f\", \"gridcolor\": \"white\", \"linecolor\": \"white\", \"minorgridcolor\": \"white\", \"startlinecolor\": \"#2a3f5f\"}, \"type\": \"carpet\"}], \"choropleth\": [{\"colorbar\": {\"outlinewidth\": 0, \"ticks\": \"\"}, \"type\": \"choropleth\"}], \"contour\": [{\"colorbar\": {\"outlinewidth\": 0, \"ticks\": \"\"}, \"colorscale\": [[0.0, \"#0d0887\"], [0.1111111111111111, \"#46039f\"], [0.2222222222222222, \"#7201a8\"], [0.3333333333333333, \"#9c179e\"], [0.4444444444444444, \"#bd3786\"], [0.5555555555555556, \"#d8576b\"], [0.6666666666666666, \"#ed7953\"], [0.7777777777777778, \"#fb9f3a\"], [0.8888888888888888, \"#fdca26\"], [1.0, \"#f0f921\"]], \"type\": \"contour\"}], \"contourcarpet\": [{\"colorbar\": {\"outlinewidth\": 0, \"ticks\": \"\"}, \"type\": \"contourcarpet\"}], \"heatmap\": [{\"colorbar\": {\"outlinewidth\": 0, \"ticks\": \"\"}, \"colorscale\": [[0.0, \"#0d0887\"], [0.1111111111111111, \"#46039f\"], [0.2222222222222222, \"#7201a8\"], [0.3333333333333333, \"#9c179e\"], [0.4444444444444444, \"#bd3786\"], [0.5555555555555556, \"#d8576b\"], [0.6666666666666666, \"#ed7953\"], [0.7777777777777778, \"#fb9f3a\"], [0.8888888888888888, \"#fdca26\"], [1.0, \"#f0f921\"]], \"type\": \"heatmap\"}], \"heatmapgl\": [{\"colorbar\": {\"outlinewidth\": 0, \"ticks\": \"\"}, \"colorscale\": [[0.0, \"#0d0887\"], [0.1111111111111111, \"#46039f\"], [0.2222222222222222, \"#7201a8\"], [0.3333333333333333, \"#9c179e\"], [0.4444444444444444, \"#bd3786\"], [0.5555555555555556, \"#d8576b\"], [0.6666666666666666, \"#ed7953\"], [0.7777777777777778, \"#fb9f3a\"], [0.8888888888888888, \"#fdca26\"], [1.0, \"#f0f921\"]], \"type\": \"heatmapgl\"}], \"histogram\": [{\"marker\": {\"colorbar\": {\"outlinewidth\": 0, \"ticks\": \"\"}}, \"type\": \"histogram\"}], \"histogram2d\": [{\"colorbar\": {\"outlinewidth\": 0, \"ticks\": \"\"}, \"colorscale\": [[0.0, \"#0d0887\"], [0.1111111111111111, \"#46039f\"], [0.2222222222222222, \"#7201a8\"], [0.3333333333333333, \"#9c179e\"], [0.4444444444444444, \"#bd3786\"], [0.5555555555555556, \"#d8576b\"], [0.6666666666666666, \"#ed7953\"], [0.7777777777777778, \"#fb9f3a\"], [0.8888888888888888, \"#fdca26\"], [1.0, \"#f0f921\"]], \"type\": \"histogram2d\"}], \"histogram2dcontour\": [{\"colorbar\": {\"outlinewidth\": 0, \"ticks\": \"\"}, \"colorscale\": [[0.0, \"#0d0887\"], [0.1111111111111111, \"#46039f\"], [0.2222222222222222, \"#7201a8\"], [0.3333333333333333, \"#9c179e\"], [0.4444444444444444, \"#bd3786\"], [0.5555555555555556, \"#d8576b\"], [0.6666666666666666, \"#ed7953\"], [0.7777777777777778, \"#fb9f3a\"], [0.8888888888888888, \"#fdca26\"], [1.0, \"#f0f921\"]], \"type\": \"histogram2dcontour\"}], \"mesh3d\": [{\"colorbar\": {\"outlinewidth\": 0, \"ticks\": \"\"}, \"type\": \"mesh3d\"}], \"parcoords\": [{\"line\": {\"colorbar\": {\"outlinewidth\": 0, \"ticks\": \"\"}}, \"type\": \"parcoords\"}], \"pie\": [{\"automargin\": true, \"type\": \"pie\"}], \"scatter\": [{\"marker\": {\"colorbar\": {\"outlinewidth\": 0, \"ticks\": \"\"}}, \"type\": \"scatter\"}], \"scatter3d\": [{\"line\": {\"colorbar\": {\"outlinewidth\": 0, \"ticks\": \"\"}}, \"marker\": {\"colorbar\": {\"outlinewidth\": 0, \"ticks\": \"\"}}, \"type\": \"scatter3d\"}], \"scattercarpet\": [{\"marker\": {\"colorbar\": {\"outlinewidth\": 0, \"ticks\": \"\"}}, \"type\": \"scattercarpet\"}], \"scattergeo\": [{\"marker\": {\"colorbar\": {\"outlinewidth\": 0, \"ticks\": \"\"}}, \"type\": \"scattergeo\"}], \"scattergl\": [{\"marker\": {\"colorbar\": {\"outlinewidth\": 0, \"ticks\": \"\"}}, \"type\": \"scattergl\"}], \"scattermapbox\": [{\"marker\": {\"colorbar\": {\"outlinewidth\": 0, \"ticks\": \"\"}}, \"type\": \"scattermapbox\"}], \"scatterpolar\": [{\"marker\": {\"colorbar\": {\"outlinewidth\": 0, \"ticks\": \"\"}}, \"type\": \"scatterpolar\"}], \"scatterpolargl\": [{\"marker\": {\"colorbar\": {\"outlinewidth\": 0, \"ticks\": \"\"}}, \"type\": \"scatterpolargl\"}], \"scatterternary\": [{\"marker\": {\"colorbar\": {\"outlinewidth\": 0, \"ticks\": \"\"}}, \"type\": \"scatterternary\"}], \"surface\": [{\"colorbar\": {\"outlinewidth\": 0, \"ticks\": \"\"}, \"colorscale\": [[0.0, \"#0d0887\"], [0.1111111111111111, \"#46039f\"], [0.2222222222222222, \"#7201a8\"], [0.3333333333333333, \"#9c179e\"], [0.4444444444444444, \"#bd3786\"], [0.5555555555555556, \"#d8576b\"], [0.6666666666666666, \"#ed7953\"], [0.7777777777777778, \"#fb9f3a\"], [0.8888888888888888, \"#fdca26\"], [1.0, \"#f0f921\"]], \"type\": \"surface\"}], \"table\": [{\"cells\": {\"fill\": {\"color\": \"#EBF0F8\"}, \"line\": {\"color\": \"white\"}}, \"header\": {\"fill\": {\"color\": \"#C8D4E3\"}, \"line\": {\"color\": \"white\"}}, \"type\": \"table\"}]}, \"layout\": {\"annotationdefaults\": {\"arrowcolor\": \"#2a3f5f\", \"arrowhead\": 0, \"arrowwidth\": 1}, \"coloraxis\": {\"colorbar\": {\"outlinewidth\": 0, \"ticks\": \"\"}}, \"colorscale\": {\"diverging\": [[0, \"#8e0152\"], [0.1, \"#c51b7d\"], [0.2, \"#de77ae\"], [0.3, \"#f1b6da\"], [0.4, \"#fde0ef\"], [0.5, \"#f7f7f7\"], [0.6, \"#e6f5d0\"], [0.7, \"#b8e186\"], [0.8, \"#7fbc41\"], [0.9, \"#4d9221\"], [1, \"#276419\"]], \"sequential\": [[0.0, \"#0d0887\"], [0.1111111111111111, \"#46039f\"], [0.2222222222222222, \"#7201a8\"], [0.3333333333333333, \"#9c179e\"], [0.4444444444444444, \"#bd3786\"], [0.5555555555555556, \"#d8576b\"], [0.6666666666666666, \"#ed7953\"], [0.7777777777777778, \"#fb9f3a\"], [0.8888888888888888, \"#fdca26\"], [1.0, \"#f0f921\"]], \"sequentialminus\": [[0.0, \"#0d0887\"], [0.1111111111111111, \"#46039f\"], [0.2222222222222222, \"#7201a8\"], [0.3333333333333333, \"#9c179e\"], [0.4444444444444444, \"#bd3786\"], [0.5555555555555556, \"#d8576b\"], [0.6666666666666666, \"#ed7953\"], [0.7777777777777778, \"#fb9f3a\"], [0.8888888888888888, \"#fdca26\"], [1.0, \"#f0f921\"]]}, \"colorway\": [\"#636efa\", \"#EF553B\", \"#00cc96\", \"#ab63fa\", \"#FFA15A\", \"#19d3f3\", \"#FF6692\", \"#B6E880\", \"#FF97FF\", \"#FECB52\"], \"font\": {\"color\": \"#2a3f5f\"}, \"geo\": {\"bgcolor\": \"white\", \"lakecolor\": \"white\", \"landcolor\": \"#E5ECF6\", \"showlakes\": true, \"showland\": true, \"subunitcolor\": \"white\"}, \"hoverlabel\": {\"align\": \"left\"}, \"hovermode\": \"closest\", \"mapbox\": {\"style\": \"light\"}, \"paper_bgcolor\": \"white\", \"plot_bgcolor\": \"#E5ECF6\", \"polar\": {\"angularaxis\": {\"gridcolor\": \"white\", \"linecolor\": \"white\", \"ticks\": \"\"}, \"bgcolor\": \"#E5ECF6\", \"radialaxis\": {\"gridcolor\": \"white\", \"linecolor\": \"white\", \"ticks\": \"\"}}, \"scene\": {\"xaxis\": {\"backgroundcolor\": \"#E5ECF6\", \"gridcolor\": \"white\", \"gridwidth\": 2, \"linecolor\": \"white\", \"showbackground\": true, \"ticks\": \"\", \"zerolinecolor\": \"white\"}, \"yaxis\": {\"backgroundcolor\": \"#E5ECF6\", \"gridcolor\": \"white\", \"gridwidth\": 2, \"linecolor\": \"white\", \"showbackground\": true, \"ticks\": \"\", \"zerolinecolor\": \"white\"}, \"zaxis\": {\"backgroundcolor\": \"#E5ECF6\", \"gridcolor\": \"white\", \"gridwidth\": 2, \"linecolor\": \"white\", \"showbackground\": true, \"ticks\": \"\", \"zerolinecolor\": \"white\"}}, \"shapedefaults\": {\"line\": {\"color\": \"#2a3f5f\"}}, \"ternary\": {\"aaxis\": {\"gridcolor\": \"white\", \"linecolor\": \"white\", \"ticks\": \"\"}, \"baxis\": {\"gridcolor\": \"white\", \"linecolor\": \"white\", \"ticks\": \"\"}, \"bgcolor\": \"#E5ECF6\", \"caxis\": {\"gridcolor\": \"white\", \"linecolor\": \"white\", \"ticks\": \"\"}}, \"title\": {\"x\": 0.05}, \"xaxis\": {\"automargin\": true, \"gridcolor\": \"white\", \"linecolor\": \"white\", \"ticks\": \"\", \"title\": {\"standoff\": 15}, \"zerolinecolor\": \"white\", \"zerolinewidth\": 2}, \"yaxis\": {\"automargin\": true, \"gridcolor\": \"white\", \"linecolor\": \"white\", \"ticks\": \"\", \"title\": {\"standoff\": 15}, \"zerolinecolor\": \"white\", \"zerolinewidth\": 2}}}, \"title\": {\"font\": {\"color\": \"#4D5663\"}}, \"xaxis\": {\"gridcolor\": \"#E1E5ED\", \"showgrid\": true, \"tickfont\": {\"color\": \"#4D5663\"}, \"title\": {\"font\": {\"color\": \"#4D5663\"}, \"text\": \"\"}, \"zerolinecolor\": \"#E1E5ED\"}, \"yaxis\": {\"gridcolor\": \"#E1E5ED\", \"showgrid\": true, \"tickfont\": {\"color\": \"#4D5663\"}, \"title\": {\"font\": {\"color\": \"#4D5663\"}, \"text\": \"\"}, \"zerolinecolor\": \"#E1E5ED\"}},                        {\"showLink\": true, \"linkText\": \"Export to plot.ly\", \"plotlyServerURL\": \"https://plot.ly\", \"responsive\": true}                    ).then(function(){\n",
       "                            \n",
       "var gd = document.getElementById('8a865162-edc0-4ce9-bc0e-c0d3cc64cead');\n",
       "var x = new MutationObserver(function (mutations, observer) {{\n",
       "        var display = window.getComputedStyle(gd).display;\n",
       "        if (!display || display === 'none') {{\n",
       "            console.log([gd, 'removed!']);\n",
       "            Plotly.purge(gd);\n",
       "            observer.disconnect();\n",
       "        }}\n",
       "}});\n",
       "\n",
       "// Listen for the removal of the full notebook cells\n",
       "var notebookContainer = gd.closest('#notebook-container');\n",
       "if (notebookContainer) {{\n",
       "    x.observe(notebookContainer, {childList: true});\n",
       "}}\n",
       "\n",
       "// Listen for the clearing of the current output cell\n",
       "var outputEl = gd.closest('.output');\n",
       "if (outputEl) {{\n",
       "    x.observe(outputEl, {childList: true});\n",
       "}}\n",
       "\n",
       "                        })                };                });            </script>        </div>"
      ]
     },
     "metadata": {},
     "output_type": "display_data"
    }
   ],
   "source": [
    "print(\"Select the type of data you need to plot.\")\n",
    "print('1--->Random Data with 100 rows and 5 columns')\n",
    "print('2--->Customize dataframe with n columns and m rows with Integer Values')\n",
    "print('3--->Upload csv/json/text file.')\n",
    "choice = int(input())\n",
    "df1  = createData(choice)\n",
    "print()\n",
    "\n",
    "print(\"Your Data Frame :\\n\")\n",
    "print(df1.head())\n",
    "print()\n",
    "\n",
    "print(\"What kind of plot you want to plot:\\n\")\n",
    "print(\"1---> Complete Data Plot\")\n",
    "print(\"2---> A Particular Column Plot\\n\")\n",
    "cat = int(input())\n",
    "print()\n",
    "\n",
    "plot(cat)"
   ]
  },
  {
   "cell_type": "code",
   "execution_count": null,
   "metadata": {},
   "outputs": [],
   "source": []
  }
 ],
 "metadata": {
  "kernelspec": {
   "display_name": "Python 3",
   "language": "python",
   "name": "python3"
  },
  "language_info": {
   "codemirror_mode": {
    "name": "ipython",
    "version": 3
   },
   "file_extension": ".py",
   "mimetype": "text/x-python",
   "name": "python",
   "nbconvert_exporter": "python",
   "pygments_lexer": "ipython3",
   "version": "3.8.5"
  }
 },
 "nbformat": 4,
 "nbformat_minor": 4
}
