{
 "cells": [
  {
   "cell_type": "code",
   "execution_count": 1,
   "metadata": {},
   "outputs": [],
   "source": [
    "import numpy as np\n",
    "import pandas as pd\n",
    "import plotly as pl\n",
    "import plotly.offline as po\n",
    "import cufflinks as cf"
   ]
  },
  {
   "cell_type": "code",
   "execution_count": 2,
   "metadata": {},
   "outputs": [
    {
     "data": {
      "text/html": [
       "        <script type=\"text/javascript\">\n",
       "        window.PlotlyConfig = {MathJaxConfig: 'local'};\n",
       "        if (window.MathJax) {MathJax.Hub.Config({SVG: {font: \"STIX-Web\"}});}\n",
       "        if (typeof require !== 'undefined') {\n",
       "        require.undef(\"plotly\");\n",
       "        requirejs.config({\n",
       "            paths: {\n",
       "                'plotly': ['https://cdn.plot.ly/plotly-latest.min']\n",
       "            }\n",
       "        });\n",
       "        require(['plotly'], function(Plotly) {\n",
       "            window._Plotly = Plotly;\n",
       "        });\n",
       "        }\n",
       "        </script>\n",
       "        "
      ]
     },
     "metadata": {},
     "output_type": "display_data"
    }
   ],
   "source": [
    "po.init_notebook_mode(connected=True)"
   ]
  },
  {
   "cell_type": "code",
   "execution_count": 3,
   "metadata": {},
   "outputs": [
    {
     "data": {
      "text/html": [
       "        <script type=\"text/javascript\">\n",
       "        window.PlotlyConfig = {MathJaxConfig: 'local'};\n",
       "        if (window.MathJax) {MathJax.Hub.Config({SVG: {font: \"STIX-Web\"}});}\n",
       "        if (typeof require !== 'undefined') {\n",
       "        require.undef(\"plotly\");\n",
       "        requirejs.config({\n",
       "            paths: {\n",
       "                'plotly': ['https://cdn.plot.ly/plotly-latest.min']\n",
       "            }\n",
       "        });\n",
       "        require(['plotly'], function(Plotly) {\n",
       "            window._Plotly = Plotly;\n",
       "        });\n",
       "        }\n",
       "        </script>\n",
       "        "
      ]
     },
     "metadata": {},
     "output_type": "display_data"
    }
   ],
   "source": [
    "cf.go_offline()"
   ]
  },
  {
   "cell_type": "code",
   "execution_count": 27,
   "metadata": {},
   "outputs": [],
   "source": [
    "def createData(choice):\n",
    "    if choice==1:\n",
    "        return pd.DataFrame(np.random.rand(100,5),columns=['A','B','C','D','E'])\n",
    "    elif choice==2:\n",
    "        print(\"Enter the value of n(Number of Column)\")\n",
    "        n=int(input())\n",
    "        print(\"Enter the value of m(Number of Rows)\")\n",
    "        m=int(input())\n",
    "        column_name = [0]*n\n",
    "        print(\"Enter the column name:\")\n",
    "        for i in range(n):\n",
    "            column_name[i] = input()\n",
    "            \n",
    "        mat = []\n",
    "        for i in range(m):\n",
    "            print(\"Enter the Value of row \",(i+1))\n",
    "            mat.append([])\n",
    "            for j in range(n):\n",
    "                mat[i].append(int(input()))\n",
    "                \n",
    "        return pd.DataFrame(mat,columns=column_name)\n",
    "    elif choice==3:\n",
    "        print(\"Enter the filename:\")\n",
    "        path = input()\n",
    "        if path[-4:] ==\".csv\" or path[-4:] =='.txt':\n",
    "            return pd.read_csv(path)\n",
    "        elif path[-4:] == 'json':\n",
    "            return pd.read_json(path)\n",
    "        else:\n",
    "            print(\"Wrong Choice!\\nDataFrame can not be created\")\n",
    "            return None\n",
    "    else:\n",
    "        print(\"Wrong Choice!\\nDataFrame can not be created\")\n",
    "        return None"
   ]
  },
  {
   "cell_type": "code",
   "execution_count": 35,
   "metadata": {},
   "outputs": [],
   "source": [
    "def plotter(plotNum,cat):\n",
    "    pass"
   ]
  },
  {
   "cell_type": "code",
   "execution_count": 34,
   "metadata": {},
   "outputs": [],
   "source": [
    "def plot(cat):\n",
    "    print(\"Select Type of Plot:\")\n",
    "    print(\"1--->Line Plot\")\n",
    "    print(\"2--->Scatter Plot\")\n",
    "    print(\"3--->Bar Plot\")\n",
    "    print(\"4--->Histogram\")\n",
    "    print(\"5--->Box Plot\")\n",
    "    print(\"6--->Surface Plot\")\n",
    "    \n",
    "    if cat==1:\n",
    "        plotNum = int(input())\n",
    "        output = plotter(plotNum,cat)\n",
    "    elif cat==2:\n",
    "        print(\"7--->Bubble Plot\")\n",
    "        plotNum = int(input())\n",
    "        output = plotter(plotNum,cat)\n",
    "    else:\n",
    "        print(\"Please Enter either 1 or 2\\nTry again!!\")"
   ]
  },
  {
   "cell_type": "code",
   "execution_count": null,
   "metadata": {},
   "outputs": [],
   "source": []
  },
  {
   "cell_type": "code",
   "execution_count": 28,
   "metadata": {},
   "outputs": [
    {
     "name": "stdout",
     "output_type": "stream",
     "text": [
      "Select the type of data you need to plot.\n",
      "1--->Random Data with 100 rows and 5 columns\n",
      "2--->Customize dataframe with n columns and m rows with Integer Values\n",
      "3--->Upload csv/json/text file.\n"
     ]
    },
    {
     "name": "stdin",
     "output_type": "stream",
     "text": [
      " 4\n"
     ]
    },
    {
     "name": "stdout",
     "output_type": "stream",
     "text": [
      "Wrong Choice!\n",
      "DataFrame can not be created\n"
     ]
    }
   ],
   "source": [
    "print(\"Select the type of data you need to plot.\")\n",
    "print('1--->Random Data with 100 rows and 5 columns')\n",
    "print('2--->Customize dataframe with n columns and m rows with Integer Values')\n",
    "print('3--->Upload csv/json/text file.')\n",
    "choice = int(input())\n",
    "df1  = createData(choice)"
   ]
  },
  {
   "cell_type": "code",
   "execution_count": 31,
   "metadata": {},
   "outputs": [
    {
     "name": "stdout",
     "output_type": "stream",
     "text": [
      "Your Data Frame :\n",
      "\n"
     ]
    }
   ],
   "source": [
    "print(\"Your Data Frame :\\n\")\n",
    "if df1 is not None:\n",
    "    df1.head()"
   ]
  },
  {
   "cell_type": "code",
   "execution_count": 33,
   "metadata": {},
   "outputs": [
    {
     "name": "stdout",
     "output_type": "stream",
     "text": [
      "What kind of plot you want to plot:\n",
      "1---> Complete Data Plot\n",
      "2---> A Particular Column Plot\n"
     ]
    },
    {
     "name": "stdin",
     "output_type": "stream",
     "text": [
      " 1\n"
     ]
    }
   ],
   "source": [
    "print(\"What kind of plot you want to plot:\")\n",
    "print(\"1---> Complete Data Plot\")\n",
    "print(\"2---> A Particular Column Plot\")\n",
    "cat = int(input())"
   ]
  },
  {
   "cell_type": "code",
   "execution_count": null,
   "metadata": {},
   "outputs": [],
   "source": [
    "plot(cat)"
   ]
  }
 ],
 "metadata": {
  "kernelspec": {
   "display_name": "Python 3",
   "language": "python",
   "name": "python3"
  },
  "language_info": {
   "codemirror_mode": {
    "name": "ipython",
    "version": 3
   },
   "file_extension": ".py",
   "mimetype": "text/x-python",
   "name": "python",
   "nbconvert_exporter": "python",
   "pygments_lexer": "ipython3",
   "version": "3.8.5"
  }
 },
 "nbformat": 4,
 "nbformat_minor": 4
}
